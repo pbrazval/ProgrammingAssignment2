{
  "nbformat": 4,
  "nbformat_minor": 0,
  "metadata": {
    "kernelspec": {
      "display_name": "Python 3",
      "language": "python",
      "name": "python3"
    },
    "language_info": {
      "codemirror_mode": {
        "name": "ipython",
        "version": 3
      },
      "file_extension": ".py",
      "mimetype": "text/x-python",
      "name": "python",
      "nbconvert_exporter": "python",
      "pygments_lexer": "ipython3",
      "version": "3.7.7"
    },
    "colab": {
      "name": "Assignment 1.ipynb",
      "provenance": [],
      "collapsed_sections": [
        "cGXRujgd2nOv"
      ],
      "toc_visible": true,
      "include_colab_link": true
    }
  },
  "cells": [
    {
      "cell_type": "markdown",
      "metadata": {
        "id": "view-in-github",
        "colab_type": "text"
      },
      "source": [
        "<a href=\"https://colab.research.google.com/github/pbrazval/ProgrammingAssignment2/blob/master/Assignment_1.ipynb\" target=\"_parent\"><img src=\"https://colab.research.google.com/assets/colab-badge.svg\" alt=\"Open In Colab\"/></a>"
      ]
    },
    {
      "cell_type": "code",
      "metadata": {
        "id": "2IlwhV0z2nMr",
        "colab_type": "code",
        "colab": {}
      },
      "source": [
        "%matplotlib inline"
      ],
      "execution_count": 0,
      "outputs": []
    },
    {
      "cell_type": "markdown",
      "metadata": {
        "id": "Chprzdhe2nMw",
        "colab_type": "text"
      },
      "source": [
        "# Assignment 1\n",
        "\n",
        "**DUE: Monday April 13, 2020 11:59pm**\n",
        "\n",
        "Turn in the assignment via Canvas.\n",
        "\n",
        "To write legible answers you will need to be familiar with both [Markdown](https://github.com/adam-p/markdown-here/wiki/Markdown-Cheatsheet) and [Latex](https://www.latex-tutorial.com/tutorials/amsmath/)\n",
        "\n",
        "Before you turn this problem in, make sure everything runs as expected. First, restart the kernel (in the menubar, select Kernel→→Restart) and then run all cells (in the menubar, select Cell→→Run All).\n",
        "\n",
        "Make sure you fill in any place that says \"YOUR CODE HERE\" or \"YOUR ANSWER HERE\", as well as your name below:"
      ]
    },
    {
      "cell_type": "code",
      "metadata": {
        "id": "8jeWubXE2nMx",
        "colab_type": "code",
        "colab": {}
      },
      "source": [
        "NAME = \"\"\n",
        "STUDENT_ID = \"\""
      ],
      "execution_count": 0,
      "outputs": []
    },
    {
      "cell_type": "markdown",
      "metadata": {
        "id": "IuKjsnku2nM0",
        "colab_type": "text"
      },
      "source": [
        "## Problem 1 -  Bayes' Theorem\n",
        "\n",
        "Sadly, many physicians and almost all (non-mathematician) patients would get this problem wrong!\n",
        "\n",
        "Suppose that a certain form of cancer has a test that correctly detects cancer (if one has it) 99.5% of the time. The prevalence of the cancer in the general population is 1 person in 14,000. Also, if one doesn't have cancer, the test will incorrectly say that one does, $\\frac{1}{2}$% of the time (one out of 200).\n",
        "\n",
        "NOTE: For each of the following questions, please give each answer to at least 2 significant digit accuracy. To accomplish this, don't round off your results until the very last step of each calculation."
      ]
    },
    {
      "cell_type": "markdown",
      "metadata": {
        "id": "SFo7zFtj2nM1",
        "colab_type": "text"
      },
      "source": [
        "### a. What's the probability that someone picked at random has this form of cancer?"
      ]
    },
    {
      "cell_type": "markdown",
      "metadata": {
        "id": "9d4leB3V2nM1",
        "colab_type": "text"
      },
      "source": [
        "#### [YOUR ANSWER HERE]\n"
      ]
    },
    {
      "cell_type": "markdown",
      "metadata": {
        "id": "WM5lAMU82nM2",
        "colab_type": "text"
      },
      "source": [
        "### b. If you take the test and it comes out positive, what is the probability that you have this form of cancer?"
      ]
    },
    {
      "cell_type": "markdown",
      "metadata": {
        "id": "ZsBQVxMR2nM3",
        "colab_type": "text"
      },
      "source": [
        "#### [YOUR ANSWER HERE]\n",
        "\n"
      ]
    },
    {
      "cell_type": "markdown",
      "metadata": {
        "id": "pua_aISb2nM3",
        "colab_type": "text"
      },
      "source": [
        "### c. If you take the test and it comes out negative, what is the probability that you have this form of cancer?"
      ]
    },
    {
      "cell_type": "markdown",
      "metadata": {
        "id": "weAoBNzY2nM4",
        "colab_type": "text"
      },
      "source": [
        "#### [YOUR ANSWER HERE]"
      ]
    },
    {
      "cell_type": "markdown",
      "metadata": {
        "id": "7j4S5MWR2nM4",
        "colab_type": "text"
      },
      "source": [
        "## List and Dictionary Comprehensions\n",
        "\n",
        "In Python, there is a very useful construct called list comprehensions, which in Python 3 also can be used to construct dictionaries.\n",
        "\n",
        "For one simple example, we can generate a list of random integers using Numpy's randint function.  We can then generate a list of the cubes of those numbers. "
      ]
    },
    {
      "cell_type": "code",
      "metadata": {
        "id": "vbRzV-M32nM5",
        "colab_type": "code",
        "colab": {}
      },
      "source": [
        "from numpy.random import randint, seed\n",
        "\n",
        "# Set the seed so the same random numbers will be generated.\n",
        "seed(42)\n",
        "\n",
        "# Create a list of 22 simulated die casts (i.e., 22 random numbers from 1 to 6).\n",
        "number_list = [randint(1, 7) for _ in range(22)]\n",
        "print(number_list)\n",
        "\n",
        "# Now create a list of the cubes of those of the above integers that are less than 5.\n",
        "cubed = [n**3 for n in number_list if n < 5]\n",
        "print(cubed)"
      ],
      "execution_count": 0,
      "outputs": []
    },
    {
      "cell_type": "markdown",
      "metadata": {
        "id": "04iYmpbf2nM9",
        "colab_type": "text"
      },
      "source": [
        "## Problem 2 -  List Comprehensions\n",
        "\n",
        "### (a) Use list comprehensions to create a list of all the indices of the 2's in the number_list you generated above."
      ]
    },
    {
      "cell_type": "code",
      "metadata": {
        "id": "XnUbGM-F2nM-",
        "colab_type": "code",
        "colab": {}
      },
      "source": [
        "### YOUR CODE HERE ###"
      ],
      "execution_count": 0,
      "outputs": []
    },
    {
      "cell_type": "markdown",
      "metadata": {
        "id": "g24ZpJCz2nNB",
        "colab_type": "text"
      },
      "source": [
        "### (b) Generate a list of the sum of the numbers that come up when a pair of dice is cast 22 times."
      ]
    },
    {
      "cell_type": "code",
      "metadata": {
        "id": "oMeFMaYF2nNB",
        "colab_type": "code",
        "colab": {}
      },
      "source": [
        "seed(117)   # DON'T CHANGE\n",
        "\n",
        "### YOUR CODE HERE ###\n",
        "sums = None\n",
        "\n",
        "sums"
      ],
      "execution_count": 0,
      "outputs": []
    },
    {
      "cell_type": "markdown",
      "metadata": {
        "id": "j_n93RnA2nNF",
        "colab_type": "text"
      },
      "source": [
        "### (c) Generate a list of the sum of the numbers that come up when a pair of dice is cast 100000 times. Find the mean and standard deviation of these numbers."
      ]
    },
    {
      "cell_type": "code",
      "metadata": {
        "id": "SrZiINza2nNG",
        "colab_type": "code",
        "colab": {}
      },
      "source": [
        "from numpy import mean, std\n",
        "\n",
        "seed(111)   # DON'T CHANGE\n",
        "\n",
        "### YOUR CODE HERE ###\n",
        "sums = [0, 0, 0]    # Replace this line\n",
        "\n",
        "print('mean =', mean(sums), '    std =', std(sums))"
      ],
      "execution_count": 0,
      "outputs": []
    },
    {
      "cell_type": "markdown",
      "metadata": {
        "id": "DYc9WhOH2nNM",
        "colab_type": "text"
      },
      "source": [
        "## Monte Carlo Simulations\n",
        "\n",
        "Monte Carlo simulations can yield numeric solutions to probability problems that aren't possible to solve analytically. These simulations are also often easy to code up, and so also provide a way to check one's calculations for problems that amenable to analysis. So this is an important technique to become familiar with.\n",
        "\n",
        "Basically, one creates a simulation of the situation, and runs many trials that allow one to estimate the probabilities by computing proportions. \n",
        "\n",
        "First we give you an example of a Monte Carlo simulation, and then you'll solve such a problem yourself.\n",
        "\n",
        "### Example\n",
        "\n",
        "If you throw a die 100 times, with what probability are you likely to see the subsequence {2, 4, 6} appear?\n",
        "\n",
        "Be patient, this may take a few minutes to run, but notice how straightforward the coding is. The simplicity of the Monte Carlo method makes it very powerful."
      ]
    },
    {
      "cell_type": "code",
      "metadata": {
        "id": "AHD7j_rd2nNN",
        "colab_type": "code",
        "colab": {}
      },
      "source": [
        "from numpy.random import randint\n",
        "import numpy as np\n",
        "\n",
        "seed(17)   # DON'T CHANGE\n",
        "\n",
        "num_tosses = 100    # tosses per trial\n",
        "num_trials = 100000\n",
        "\n",
        "# This sets the feedback interval so we know the program hasn't crashed.\n",
        "feedback = int(np.round(num_trials / 10))\n",
        "\n",
        "num_seq_found = 0   # to count the number of target subsequences detected\n",
        "for t in range(1, num_trials + 1):\n",
        "    \n",
        "    # To see the progress.\n",
        "    if t % feedback == 0:  \n",
        "        print(np.round(100 * t / num_trials, 1), '%  complete:   prob =', num_seq_found / t)\n",
        "        \n",
        "    # Roll the die num_tosses times.\n",
        "    trial = [randint(1, 7) for _ in range(num_tosses)]\n",
        "    # Find the indices of all the 2s.\n",
        "    twos = [i for i in range(num_tosses) if trial[i] == 2]\n",
        "    \n",
        "    # Search to see if after each 2 we have a 4 followed by a 6.\n",
        "    for j in twos:\n",
        "        if j < num_tosses - 2 and trial[j] == 2 and trial[j + 1] == 4 and trial[j + 2] == 6:\n",
        "            # We've found the target subsequence.\n",
        "            num_seq_found += 1\n",
        "    \n",
        "print('Probability of this subsequence =', num_seq_found / num_trials)"
      ],
      "execution_count": 0,
      "outputs": []
    },
    {
      "cell_type": "markdown",
      "metadata": {
        "id": "_wPedRtA2nNS",
        "colab_type": "text"
      },
      "source": [
        "This is often a bit of a waiting game, though by exploiting parallelism one can speed it up a bit.\n",
        "\n",
        "Running the above simulation 5 times previously, we obtained  0.4561, 0.45562, 0.45296, 0.45154, and 0.45529. One can see that the true probability is about 0.454 (their average), though more trials will be needed to obtain a more accurate estimate.  We haven't proved anything, yet we have a very good idea of the true probability. This is a good reality check for many probability calculations. \n",
        "\n",
        "The above can easily be calculated precisely. Any particular sequence of three tosses that come up 2,4,6 has probability $\\left(\\frac{1}{6}\\right)^3$, and there are 98 possible starting points for the sequence, so there are 98 ways in which the target sequence could be achieved. So the probability is:\n",
        "\n",
        "$$\\left(\\frac{1}{6}\\right)^3\\cdot 98 = 0.45370370\\dots~\\dot{=}~0.454$$\n",
        "\n",
        "One can use Monte Carlo Simulations for far more than just solving probability problems. "
      ]
    },
    {
      "cell_type": "markdown",
      "metadata": {
        "id": "rfjV_GuP2nNT",
        "colab_type": "text"
      },
      "source": [
        "## Problem 3  -  Monte Carlo Simulation\n",
        "\n",
        "Consider the following game. Randomly pick three balls (without replacement) from an urn containing 60 red balls, 30 green balls, and 10 blue balls. If the majority of balls is red then roll dice and you win an amount equal to the sum of the dice. If the majority of balls isn't red, than you lose the sum of the dice roll. If you had to pay $2 to play this game, about how much would you expect to win (or lose)? Please round off your answer to the nearest cent."
      ]
    },
    {
      "cell_type": "code",
      "metadata": {
        "id": "YZlUoULK2nNU",
        "colab_type": "code",
        "colab": {}
      },
      "source": [
        "import numpy as np\n",
        "from numpy.random import shuffle, randint, seed\n",
        "\n",
        "seed(213)   # DON'T CHANGE\n",
        "\n",
        "### YOUR CODE HERE ###\n",
        "mean_winnings = 0\n",
        "\n",
        "print('mean winnings =', mean_winnings)"
      ],
      "execution_count": 0,
      "outputs": []
    },
    {
      "cell_type": "markdown",
      "metadata": {
        "id": "81aAe8rZ2nNa",
        "colab_type": "text"
      },
      "source": [
        "#### [YOUR ANSWER HERE]\n",
        "mean winnings = ?"
      ]
    },
    {
      "cell_type": "markdown",
      "metadata": {
        "id": "OuwF3Y2b2nN3",
        "colab_type": "text"
      },
      "source": [
        "## Problem 4 - Data Exploration\n",
        "\n",
        "When a data scientist first encounters a new dataset, the first step is data exploration. The dataset we'll be using is derived from the Heart database from the UCI Machine Learning Repository."
      ]
    },
    {
      "cell_type": "code",
      "metadata": {
        "id": "QZJlh8ZH2nN4",
        "colab_type": "code",
        "colab": {}
      },
      "source": [
        "# Useful libraries\n",
        "import numpy as np\n",
        "import pandas as pd\n",
        "import matplotlib.pyplot as plt\n",
        "import seaborn as sns"
      ],
      "execution_count": 0,
      "outputs": []
    },
    {
      "cell_type": "markdown",
      "metadata": {
        "id": "YLCeUi8K2ycm",
        "colab_type": "text"
      },
      "source": [
        "### Read in the Data\n",
        "This is much easier when you have the data on your own hard drive! Just run the next couple of code blocks. You'll have to paste your authorization code at one point...\n"
      ]
    },
    {
      "cell_type": "code",
      "metadata": {
        "id": "Xnm4IUVn2va9",
        "colab_type": "code",
        "colab": {}
      },
      "source": [
        "!pip install PyDrive\n",
        "from pydrive.auth import GoogleAuth\n",
        "from pydrive.drive import GoogleDrive\n",
        "from google.colab import auth\n",
        "from oauth2client.client import GoogleCredentials"
      ],
      "execution_count": 0,
      "outputs": []
    },
    {
      "cell_type": "code",
      "metadata": {
        "id": "osP9dVT02_m1",
        "colab_type": "code",
        "colab": {}
      },
      "source": [
        "auth.authenticate_user()\n",
        "gauth = GoogleAuth()\n",
        "gauth.credentials = GoogleCredentials.get_application_default()\n",
        "drive = GoogleDrive(gauth)"
      ],
      "execution_count": 0,
      "outputs": []
    },
    {
      "cell_type": "code",
      "metadata": {
        "id": "rYrU50rO2nN6",
        "colab_type": "code",
        "colab": {}
      },
      "source": [
        "downloaded = drive.CreateFile({'id':\"1qF_Ees7ETr5BiPnHTabyeIH1KQVkViUK\"})   # replace the id with id of file you want to access\n",
        "downloaded.GetContentFile('Heart.csv')        # replace the file name with your file\n",
        "\n",
        "# Finally we can actually read in the data.\n",
        "data = pd.read_csv('Heart.csv')\n",
        "\n",
        "# How many rows and columns are in this dataset?\n",
        "data.shape"
      ],
      "execution_count": 0,
      "outputs": []
    },
    {
      "cell_type": "markdown",
      "metadata": {
        "id": "tSuWlktS2nN9",
        "colab_type": "text"
      },
      "source": [
        "### Data Dictionary\n",
        "\n",
        "Look for a data dictionary whenever you explore a new dataset. This is a codebook that tells you what each data item represents. The following is a data dictionary for this dataset, which is derived from one in the UCI Machine Learning Dataset Repository."
      ]
    },
    {
      "cell_type": "markdown",
      "metadata": {
        "id": "u6EthXyP2nN-",
        "colab_type": "text"
      },
      "source": [
        "Age: The person's age in years\n",
        "\n",
        "Sex: The person's sex (1 = male, 0 = female)\n",
        "\n",
        "ChestPain: The chest pain experienced <br>\n",
        ".............typical angina  <br>\n",
        ".............atypical angina <br>\n",
        ".............non-anginal pain  <br>\n",
        ".............asymptomatic\n",
        "\n",
        "RestBP: The person's resting blood pressure (mm Hg on admission to the hospital)\n",
        "\n",
        "Chol: The person's cholesterol measurement in mg/dl\n",
        "\n",
        "Fbs: The person's fasting blood sugar (> 120 mg/dl, 1 = true; 0 = false)\n",
        "\n",
        "RestECG: Resting electrocardiographic measurement <br>\n",
        ".............0: normal <br>\n",
        ".............1: having ST-T wave abnormality <br>\n",
        ".............2: showing probable left ventricular hypertrophy by Estes' criteria\n",
        "\n",
        "MaxHR: The person's maximum heart rate achieved\n",
        "\n",
        "ExAng: Exercise induced angina (1 = yes; 0 = no)\n",
        "\n",
        "Oldpeak: ST depression induced by exercise relative to rest <br>\n",
        "..............('ST' relates to positions on the ECG plot.)\n",
        "\n",
        "Slope: the slope of the peak exercise ST segment <br>\n",
        "...........1: upsloping <br>\n",
        "...........2: flat <br>\n",
        "...........3: downsloping\n",
        "\n",
        "Ca: The number of major vessels (0-3)\n",
        "\n",
        "Thal: A blood disorder called thalassemia <br>\n",
        "...........normal <br>\n",
        "...........fixed <br>\n",
        "...........reversable\n",
        "\n",
        "AHD: Heart disease ('No', 'Yes') -  The target we would like to predict."
      ]
    },
    {
      "cell_type": "code",
      "metadata": {
        "id": "3OtUkDID2nN-",
        "colab_type": "code",
        "colab": {}
      },
      "source": [
        "# Show the first few rows of the data.\n",
        "data.head()"
      ],
      "execution_count": 0,
      "outputs": []
    },
    {
      "cell_type": "code",
      "metadata": {
        "id": "C116JGsY2nOA",
        "colab_type": "code",
        "colab": {}
      },
      "source": [
        "# This command prints out information about the dataset.\n",
        "data.info()"
      ],
      "execution_count": 0,
      "outputs": []
    },
    {
      "cell_type": "markdown",
      "metadata": {
        "id": "5JRzQNLl2nOE",
        "colab_type": "text"
      },
      "source": [
        "The above output can help you to see how much missing data is in the dataset. We know there are 306 rows in this dataset, so a Non-Null Count less than 306 indicates missing values. \n",
        "\n",
        "What to do about missing values is very good question. Sometimes one replaces such missing values with the mean of all the values that are present for this variable. But to keep things simple here we will simply delete any rows with missing data."
      ]
    },
    {
      "cell_type": "code",
      "metadata": {
        "id": "hOepmrOg2nOE",
        "colab_type": "code",
        "colab": {}
      },
      "source": [
        "# Drop any rows with missing data\n",
        "data = data.dropna()\n",
        "data.info()"
      ],
      "execution_count": 0,
      "outputs": []
    },
    {
      "cell_type": "markdown",
      "metadata": {
        "id": "FoLwru912nOH",
        "colab_type": "text"
      },
      "source": [
        "Now we have 300 rows, none of which have any missing data.  \n",
        "\n",
        "Another useful Pandas dataframe method is describe(). The describe method gives summary statistics for each column, which can help you to identify outliers."
      ]
    },
    {
      "cell_type": "code",
      "metadata": {
        "id": "eU_RHFpE2nOI",
        "colab_type": "code",
        "colab": {}
      },
      "source": [
        "# The describe method of a Pandas dataframe yields much useful information.\n",
        "data.describe()"
      ],
      "execution_count": 0,
      "outputs": []
    },
    {
      "cell_type": "markdown",
      "metadata": {
        "id": "jVnRhHh82nOK",
        "colab_type": "text"
      },
      "source": [
        "Outliers are values far removed from the other data values, and are usually typos or other errors. Cleaning a dataset requires removing outliers.  Looking at the above, notice that the maximum age is 222, clearly an error. We'll remove any ages that are more than 4 standard deviations from the mean.\n",
        "\n",
        "To accomplish this, we'll make a new column called AgeZ to hold the z-transformed values in the Age column."
      ]
    },
    {
      "cell_type": "code",
      "metadata": {
        "id": "LzKOPmvf2nOL",
        "colab_type": "code",
        "colab": {}
      },
      "source": [
        "data['AgeZ'] = np.abs((data['Age'] - data['Age'].mean()) / data['Age'].std())\n",
        "\n",
        "# Delete any rows for which AgeZ is greater than 4.\n",
        "data = data[data.AgeZ <= 4]\n",
        "\n",
        "# Cleanup - delete the z-tranform column since we don't need it any more.\n",
        "data = data.drop(columns=['AgeZ'])\n",
        "\n",
        "# Let's take another look.\n",
        "data.describe()"
      ],
      "execution_count": 0,
      "outputs": []
    },
    {
      "cell_type": "markdown",
      "metadata": {
        "id": "j4YIpqol2nON",
        "colab_type": "text"
      },
      "source": [
        "Notice that now the Age column is much more reasonable.  "
      ]
    },
    {
      "cell_type": "markdown",
      "metadata": {
        "id": "CJvLHq_m2nOO",
        "colab_type": "text"
      },
      "source": [
        "### Problem 4 (a)\n",
        "\n",
        "Perform the same process to eliminate any extreme outliers (more than 4 standard deviations from the mean) for RestBP, MaxHR, and the Oldpeak variables. Delete those exta columns after you have removed the outliers."
      ]
    },
    {
      "cell_type": "code",
      "metadata": {
        "id": "jrizwTo22nOO",
        "colab_type": "code",
        "colab": {}
      },
      "source": [
        "### YOUR CODE HERE ###\n",
        "\n",
        "\n",
        "\n",
        "# Leave this for your last line.\n",
        "data.describe()"
      ],
      "execution_count": 0,
      "outputs": []
    },
    {
      "cell_type": "markdown",
      "metadata": {
        "id": "kls093zf2nOR",
        "colab_type": "text"
      },
      "source": [
        "### Data Visualization\n",
        "\n",
        "Sometimes it's useful to look at a pairwise plot of all the variables. Below we do this for all but the first column. Be patient, this takes a minute to complete. Notice that the main diagonal has histogram plots for each variable, which gives you a sense of the distribution of values of each variable."
      ]
    },
    {
      "cell_type": "code",
      "metadata": {
        "id": "KadsSpNR2nOR",
        "colab_type": "code",
        "colab": {}
      },
      "source": [
        "# Make a pairplot of all the variables (columns), excepting the first column.\n",
        "plt.rcParams['figure.figsize'] = (15, 15)\n",
        "sns.pairplot(data.drop(columns='Unnamed: 0'))"
      ],
      "execution_count": 0,
      "outputs": []
    },
    {
      "cell_type": "markdown",
      "metadata": {
        "id": "4PuRhYp32nOU",
        "colab_type": "text"
      },
      "source": [
        "Let's look at a larger plot of the patient age distribution for the patients in this dataset."
      ]
    },
    {
      "cell_type": "code",
      "metadata": {
        "id": "eWpVLgZK2nOU",
        "colab_type": "code",
        "colab": {}
      },
      "source": [
        "# Plot the patient age distribution.\n",
        "plt.rcParams['figure.figsize'] = (7, 4)\n",
        "sns.distplot(data['Age'])\n",
        "plt.title('Age Distribution')"
      ],
      "execution_count": 0,
      "outputs": []
    },
    {
      "cell_type": "markdown",
      "metadata": {
        "id": "iRAR3b_52nOX",
        "colab_type": "text"
      },
      "source": [
        "### Problem 4 (b)\n",
        "\n",
        "Plot the distribution of patient cholesterol levels."
      ]
    },
    {
      "cell_type": "code",
      "metadata": {
        "id": "O2sCbr9z2nOY",
        "colab_type": "code",
        "colab": {}
      },
      "source": [
        "### YOUR CODE HERE ###"
      ],
      "execution_count": 0,
      "outputs": []
    },
    {
      "cell_type": "markdown",
      "metadata": {
        "id": "-QLPhTCq2nOa",
        "colab_type": "text"
      },
      "source": [
        "### Data Normalization\n",
        "\n",
        "We've already seen how the z-transform can be used to rescale values. We used this to help eliminate outliers, but such transforms can also be useful prior to applying machine learning algorithms, and often improves the algorithms performance. \n",
        "\n",
        "Another common transform is to map all the variable values into the interval $[0,1]$, via the transform:\n",
        "\n",
        "$$x \\to  \\frac{x - \\min}{\\max - \\min}$$\n",
        "\n",
        "For example, below we create a new column mapping all ages into the interval $[0,1]$."
      ]
    },
    {
      "cell_type": "code",
      "metadata": {
        "id": "cEvlQDXm2nOb",
        "colab_type": "code",
        "colab": {}
      },
      "source": [
        "# Create a new column, NewAge, to hold the z-transformed Age variable.\n",
        "data['NewAge'] = (data['Age'] - data['Age'].min())/(data['Age'].max() - data['Age'].min())\n",
        "\n",
        "# Take a look at our z-transformed age column.\n",
        "data['NewAge']"
      ],
      "execution_count": 0,
      "outputs": []
    },
    {
      "cell_type": "code",
      "metadata": {
        "id": "hvWHd-vZ2nOd",
        "colab_type": "code",
        "colab": {}
      },
      "source": [
        "# We don't need this column, so we delete it. (It was just to show you how to do this.)\n",
        "data = data.drop(columns=['NewAge'])"
      ],
      "execution_count": 0,
      "outputs": []
    },
    {
      "cell_type": "markdown",
      "metadata": {
        "id": "gObPkanN2nOg",
        "colab_type": "text"
      },
      "source": [
        "### Problem 4 (c)\n",
        "\n",
        "Map the minimum to 0 and maximum to 1 for the RestBP, Chol, and MaxHR columns. Don't create new columns, just replace the existing ones with the transformed data."
      ]
    },
    {
      "cell_type": "code",
      "metadata": {
        "id": "MSjXg7Go2nOg",
        "colab_type": "code",
        "colab": {}
      },
      "source": [
        "### YOUR CODE HERE ###\n",
        "\n",
        "\n",
        "# Leave this for your last line.\n",
        "data.describe()"
      ],
      "execution_count": 0,
      "outputs": []
    },
    {
      "cell_type": "markdown",
      "metadata": {
        "id": "tpg3RVaHDhow",
        "colab_type": "text"
      },
      "source": [
        "### Problem 4 (d)"
      ]
    },
    {
      "cell_type": "markdown",
      "metadata": {
        "id": "0PRmp0GI2nOi",
        "colab_type": "text"
      },
      "source": [
        "### Converting Categorical Data to Numeric Values\n",
        "\n",
        "It's frequently useful to convert categorical (non-numeric) values to numeric ones. The last variable in the data frame, AHD, has categorical values 'No' if the patient has no heart disease, and 'Yes' if they do. Convert these values to 0 for 'No' and 1 for 'Yes'."
      ]
    },
    {
      "cell_type": "code",
      "metadata": {
        "id": "A0vh80Yc2nOj",
        "colab_type": "code",
        "colab": {}
      },
      "source": [
        "### YOUR CODE HERE ###"
      ],
      "execution_count": 0,
      "outputs": []
    },
    {
      "cell_type": "markdown",
      "metadata": {
        "id": "Zmj1yFJU2nOm",
        "colab_type": "text"
      },
      "source": [
        "### One-Hot-Encoding\n",
        "\n",
        "One-hot-encoding is another often used way of converting categorical data to numeric. For example, instead of the categories 'cold', 'warm', 'hot', we form a seperate column for each of these attributes, so that what was represented as 'cold' is now $[1,0,0]$ and what was 'hot' is now $[0,0,1]$.  There is a built in command for doing this in the sklearn package."
      ]
    },
    {
      "cell_type": "code",
      "metadata": {
        "id": "CKflA4VE2nOm",
        "colab_type": "code",
        "colab": {}
      },
      "source": [
        "# Current dataframe column names.\n",
        "data.columns"
      ],
      "execution_count": 0,
      "outputs": []
    },
    {
      "cell_type": "code",
      "metadata": {
        "id": "jiPkdXxE2nOo",
        "colab_type": "code",
        "colab": {}
      },
      "source": [
        "# Concatentate new one-hot encodings with the original dataframe.\n",
        "data = pd.concat([data, pd.get_dummies(data['Thal'], prefix='Thal')], axis=1)\n",
        "\n",
        "# now drop the original 'Thal' column (you don't need it anymore)\n",
        "data.drop(columns=['Thal'], inplace=True)\n",
        "\n",
        "data.head()"
      ],
      "execution_count": 0,
      "outputs": []
    },
    {
      "cell_type": "markdown",
      "metadata": {
        "id": "gdInMsi42nOs",
        "colab_type": "text"
      },
      "source": [
        "Notice how the 'Thal' column has been replaced by its one-hot-encoding."
      ]
    },
    {
      "cell_type": "markdown",
      "metadata": {
        "id": "o-7xSpv62nOs",
        "colab_type": "text"
      },
      "source": [
        "Create a one-hot-encoding for the ChestPain column, just as we did above for the Thal column, deleting the original column as before."
      ]
    },
    {
      "cell_type": "code",
      "metadata": {
        "id": "HH8kndAQ2nOs",
        "colab_type": "code",
        "colab": {}
      },
      "source": [
        "### YOUR CODE HERE ###\n",
        "\n",
        "\n",
        "# Leave this for your last line.\n",
        "data.head()"
      ],
      "execution_count": 0,
      "outputs": []
    },
    {
      "cell_type": "markdown",
      "metadata": {
        "id": "cGXRujgd2nOv",
        "colab_type": "text"
      },
      "source": [
        "### Feature Engineering ###\n",
        "\n",
        "Feature engineering is central to much of machine learning. Traditionally such features needed to be hand crafted, which is as much an art as it is engineering. One of the huge advantages of neural networks over traditional machine learning techniques is that neural networks can learn optimal features."
      ]
    },
    {
      "cell_type": "markdown",
      "metadata": {
        "id": "ekfL1tTH2nOv",
        "colab_type": "text"
      },
      "source": [
        "### Problem 4 (e)\n",
        "\n",
        "Create a new column (feature) called AgeC, which will be the product of the patient's age and the patient's cholesterol level. "
      ]
    },
    {
      "cell_type": "code",
      "metadata": {
        "id": "DFJhzWT02nOv",
        "colab_type": "code",
        "colab": {}
      },
      "source": [
        "### YOUR CODE HERE ###\n",
        "\n",
        "\n",
        "# Leave this for your last line.\n",
        "data.head()"
      ],
      "execution_count": 0,
      "outputs": []
    },
    {
      "cell_type": "markdown",
      "metadata": {
        "id": "JNeMdC4D2nOx",
        "colab_type": "text"
      },
      "source": [
        "###  Balanced or Unbalanced Classes\n",
        "\n",
        "For this dataset, one variable that we might like to predict is the presence of heart disease, the AHD column, using all the other columns. Some datasets are highly imbalanced.  Suppose that 95% of a set of patients were healthy, with only 5% having heart disease. A machine learning model can attain 95% accuracy by simply ALWAYS predicting no heart disease. It sounds like a fairly accurate model, but it would miss predicting any heart disease! \n",
        "\n",
        "There are techniques for dealing with this, but first we have to ascertain if our data is unbalanced. Let's see."
      ]
    },
    {
      "cell_type": "code",
      "metadata": {
        "id": "J8Ie6nAf2nOy",
        "colab_type": "code",
        "colab": {}
      },
      "source": [
        "# Plot the target attribute AHD to check to see if the classes are balanced.\n",
        "sns.countplot(data['AHD'])"
      ],
      "execution_count": 0,
      "outputs": []
    },
    {
      "cell_type": "markdown",
      "metadata": {
        "id": "jCOv0vYf2nO0",
        "colab_type": "text"
      },
      "source": [
        "These are fairly balanced, so we are good to go!"
      ]
    }
  ]
}